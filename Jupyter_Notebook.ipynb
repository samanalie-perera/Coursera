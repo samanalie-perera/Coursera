{
 "cells": [
  {
   "cell_type": "markdown",
   "metadata": {},
   "source": [
    "<center>\n",
    "    <img src=\"https://cf-courses-data.s3.us.cloud-object-storage.appdomain.cloud/IBMDeveloperSkillsNetwork-DS0105EN-SkillsNetwork/labs/Module2/images/SN_web_lightmode.png\" width=\"300\" alt=\"cognitiveclass.ai logo\">\n",
    "</center>\n"
   ]
  },
  {
   "cell_type": "markdown",
   "metadata": {},
   "source": [
    "#### Add your code below following the instructions given in the course\n"
   ]
  },
  {
   "cell_type": "markdown",
   "metadata": {},
   "source": [
    "**Exercise 2 - Create a markdown cell with the title of the notebook. (1 pt)**\n",
    "## Assignment 1"
   ]
  },
  {
   "cell_type": "markdown",
   "metadata": {},
   "source": [
    "**Exercise 3 - Create a markdown cell for an introduction. (1 pt)**\n",
    "\n",
    "This assignment is to use the knowledge that we've learnt throughout the course. We will use multiple data science tools, and in this final project, you will use Jupyterlite Notebook, one of the easiest tools to share publicly. \n",
    "\n",
    "Leveraging Jupyterlite Notebook on Skills Network labs, you will create your Jupyterlite Notebook (in English) and share it via a public GitHub link."
   ]
  },
  {
   "cell_type": "markdown",
   "metadata": {},
   "source": [
    "**Exercise 4 - Create a markdown cell to list data science languages. (3 pts)**\n",
    "- Python\n",
    "- R\n",
    "- Julia\n",
    "- SQL\n",
    "- MATLAB"
   ]
  },
  {
   "cell_type": "markdown",
   "metadata": {},
   "source": [
    "**Exercise 5 - Create a markdown cell to list data science libraries. (3 pts)**\n",
    "- NumPy\n",
    "- Pandas\n",
    "- Matplotlib\n",
    "- Seaborn\n",
    "- Scikit-learn\n",
    "- TensorFlow\n",
    "- PyTorch\n",
    "- Keras\n",
    "- Statsmodels\n",
    "- SciPy\n",
    "\n"
   ]
  },
  {
   "cell_type": "markdown",
   "metadata": {},
   "source": [
    "**Exercise 6 - Create a markdown cell with a table of Data Science tools. (3 pts)**\n",
    "- Jupyter Notebook \n",
    "- RStudio        \n",
    "- Anaconda\n",
    "- Git            \n",
    "- GitHub         \n",
    "- Docker         \n",
    "- Tableau        \n",
    "- Apache Spark   \n",
    "- Hadoop\n",
    "- SAS   "
   ]
  },
  {
   "cell_type": "markdown",
   "metadata": {},
   "source": [
    "**Exercise 7 - Create a markdown cell introducing arithmetic expression examples. (1 pt)**\n",
    "\n",
    "1. Addition: 7 + 5 = 12\n",
    "2. Subtraction: 9 - 5 = 4\n",
    "3. Multiplication: 5 * 6 = 30\n",
    "4. Division: 24 / 4 = 6"
   ]
  },
  {
   "cell_type": "markdown",
   "metadata": {},
   "source": [
    "**Exercise 8 - Create a code cell to multiply and add numbers. (2 pts)**\n"
   ]
  },
  {
   "cell_type": "code",
   "execution_count": 4,
   "metadata": {
    "tags": []
   },
   "outputs": [
    {
     "name": "stdout",
     "output_type": "stream",
     "text": [
      "Result of multiplication: 15\n",
      "Result of addition: 8\n"
     ]
    }
   ],
   "source": [
    "num1 = 5\n",
    "num2 = 3\n",
    "\n",
    "# Multiply\n",
    "result_multiply = num1 * num2\n",
    "print(\"Result of multiplication:\", result_multiply)\n",
    "\n",
    "# Add\n",
    "result_add = num1 + num2\n",
    "print(\"Result of addition:\", result_add)\n"
   ]
  },
  {
   "cell_type": "markdown",
   "metadata": {},
   "source": [
    "**Exercise 9 - Create a code cell to convert minutes to hours. (2 pts)**\n"
   ]
  },
  {
   "cell_type": "code",
   "execution_count": 5,
   "metadata": {
    "tags": []
   },
   "outputs": [
    {
     "name": "stdout",
     "output_type": "stream",
     "text": [
      "150 minutes is equal to 2.5 hours.\n"
     ]
    }
   ],
   "source": [
    "# Convert minutes to hours\n",
    "minutes = 150\n",
    "\n",
    "# Convert\n",
    "hours = minutes / 60\n",
    "\n",
    "print(\"150 minutes is equal to\", hours, \"hours.\")\n"
   ]
  },
  {
   "cell_type": "markdown",
   "metadata": {},
   "source": [
    "**Exercise 10 -Insert a markdown cell to list Objectives. (3 pts)**\n",
    "\n",
    "### Objectives\n",
    "\n",
    "1. Understand basic concepts of data science.\n",
    "2. Learn fundamental programming languages used in data science such as Python and R.\n",
    "3. Familiarize with popular data science libraries and tools like NumPy, Pandas, and Jupyter Notebook."
   ]
  },
  {
   "cell_type": "markdown",
   "metadata": {},
   "source": [
    "**Exercise 11 - Create a markdown cell to indicate the Author’s name. (2 pts)**\n",
    "\n",
    "**Author:**\n",
    "John Smith\n"
   ]
  },
  {
   "cell_type": "markdown",
   "metadata": {},
   "source": [
    "**Exercise 12 - Share your notebook through GitHub (3 pts)**"
   ]
  },
  {
   "cell_type": "markdown",
   "metadata": {},
   "source": [
    "**Exercise 13 - Take a screenshot of the first page of the notebook. (1 pt)**"
   ]
  },
  {
   "cell_type": "code",
   "execution_count": null,
   "metadata": {},
   "outputs": [],
   "source": []
  }
 ],
 "metadata": {
  "kernelspec": {
   "display_name": "Python",
   "language": "python",
   "name": "conda-env-python-py"
  },
  "language_info": {
   "codemirror_mode": {
    "name": "ipython",
    "version": 3
   },
   "file_extension": ".py",
   "mimetype": "text/x-python",
   "name": "python",
   "nbconvert_exporter": "python",
   "pygments_lexer": "ipython3",
   "version": "3.7.12"
  }
 },
 "nbformat": 4,
 "nbformat_minor": 4
}
